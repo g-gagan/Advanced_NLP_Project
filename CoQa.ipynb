{
 "cells": [
  {
   "cell_type": "code",
   "execution_count": 1,
   "metadata": {},
   "outputs": [],
   "source": [
    "import json"
   ]
  },
  {
   "cell_type": "code",
   "execution_count": 3,
   "metadata": {},
   "outputs": [],
   "source": [
    "# Training data\n",
    "f = open(\"coqa-train-v1.0.json\")\n",
    "data = json.load(f)\n"
   ]
  },
  {
   "cell_type": "code",
   "execution_count": 6,
   "metadata": {},
   "outputs": [
    {
     "name": "stdout",
     "output_type": "stream",
     "text": [
      "7199\n"
     ]
    }
   ],
   "source": [
    "print(len(data[\"data\"]))"
   ]
  },
  {
   "cell_type": "code",
   "execution_count": 10,
   "metadata": {},
   "outputs": [],
   "source": [
    "qa_dict = {'what':0 , 'where': 0, 'how':0, 'why':0, 'when': 0, 'which':0,  'misc': 0, 'who' : 0}\n",
    "qa_keys = ['what', 'where', 'how', 'why', 'when', 'which', 'who']\n",
    "\n",
    "for ctxt in data[\"data\"]:\n",
    "    for question in ctxt[\"questions\"]:\n",
    "        misc = True\n",
    "        for key in qa_keys:\n",
    "            if key in question[\"input_text\"].lower():\n",
    "                qa_dict[key]+=1\n",
    "                misc = False\n",
    "                break\n",
    "        if misc:\n",
    "            qa_dict[\"misc\"]+=1"
   ]
  },
  {
   "cell_type": "code",
   "execution_count": 11,
   "metadata": {},
   "outputs": [
    {
     "data": {
      "text/plain": [
       "{'what': 36389,\n",
       " 'where': 7911,\n",
       " 'how': 11910,\n",
       " 'why': 2983,\n",
       " 'when': 4929,\n",
       " 'which': 2034,\n",
       " 'misc': 25186,\n",
       " 'who': 17305}"
      ]
     },
     "execution_count": 11,
     "metadata": {},
     "output_type": "execute_result"
    }
   ],
   "source": [
    "qa_dict"
   ]
  },
  {
   "cell_type": "code",
   "execution_count": 12,
   "metadata": {},
   "outputs": [],
   "source": [
    "# Dev data\n",
    "f = open(\"coqa-dev-v1.0.json\")\n",
    "data = json.load(f)\n"
   ]
  },
  {
   "cell_type": "code",
   "execution_count": 13,
   "metadata": {},
   "outputs": [
    {
     "name": "stdout",
     "output_type": "stream",
     "text": [
      "500\n"
     ]
    }
   ],
   "source": [
    "print(len(data[\"data\"]))"
   ]
  },
  {
   "cell_type": "code",
   "execution_count": 14,
   "metadata": {},
   "outputs": [],
   "source": [
    "qa_dict_dev = {'what':0 , 'where': 0, 'how':0, 'why':0, 'when': 0, 'which':0,  'misc': 0, 'who' : 0}\n",
    "for ctxt in data[\"data\"]:\n",
    "    for question in ctxt[\"questions\"]:\n",
    "        misc = True\n",
    "        for key in qa_keys:\n",
    "            if key in question[\"input_text\"].lower():\n",
    "                qa_dict_dev[key]+=1\n",
    "                misc = False\n",
    "                break\n",
    "        if misc:\n",
    "            qa_dict_dev[\"misc\"]+=1"
   ]
  },
  {
   "cell_type": "code",
   "execution_count": 15,
   "metadata": {},
   "outputs": [
    {
     "data": {
      "text/plain": [
       "{'what': 2792,\n",
       " 'where': 562,\n",
       " 'how': 822,\n",
       " 'why': 224,\n",
       " 'when': 300,\n",
       " 'which': 147,\n",
       " 'misc': 1915,\n",
       " 'who': 1221}"
      ]
     },
     "execution_count": 15,
     "metadata": {},
     "output_type": "execute_result"
    }
   ],
   "source": [
    "qa_dict_dev"
   ]
  },
  {
   "cell_type": "code",
   "execution_count": null,
   "metadata": {},
   "outputs": [],
   "source": []
  }
 ],
 "metadata": {
  "kernelspec": {
   "display_name": "Python 3",
   "language": "python",
   "name": "python3"
  },
  "language_info": {
   "codemirror_mode": {
    "name": "ipython",
    "version": 3
   },
   "file_extension": ".py",
   "mimetype": "text/x-python",
   "name": "python",
   "nbconvert_exporter": "python",
   "pygments_lexer": "ipython3",
   "version": "3.8.10"
  }
 },
 "nbformat": 4,
 "nbformat_minor": 4
}
