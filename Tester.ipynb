{
  "cells": [
    {
      "cell_type": "code",
      "execution_count": null,
      "metadata": {
        "colab": {
          "base_uri": "https://localhost:8080/"
        },
        "id": "6YGzOd8Qo2eM",
        "outputId": "ce6d4410-02f9-4bae-fc57-c22d800c1e2f"
      },
      "outputs": [],
      "source": [
        "!python -m venv .env"
      ]
    },
    {
      "cell_type": "code",
      "execution_count": null,
      "metadata": {
        "id": "YPbr_fgUo5_9"
      },
      "outputs": [],
      "source": [
        "!source .env/bin/activate"
      ]
    },
    {
      "cell_type": "code",
      "execution_count": null,
      "metadata": {
        "id": "nR7cj5T15-Rv"
      },
      "outputs": [],
      "source": [
        "import sys\n",
        "sys.path.insert(1, \"/content/drive/MyDrive/Spring22/CS769/Project/question-answering\")"
      ]
    },
    {
      "cell_type": "code",
      "execution_count": null,
      "metadata": {
        "colab": {
          "base_uri": "https://localhost:8080/"
        },
        "id": "1KTOETwl6P_g",
        "outputId": "b194090a-1384-4f86-e6a1-eb3e5343e447"
      },
      "outputs": [],
      "source": [
        "%cd /content/drive/MyDrive/Spring22/CS769/Project/question-answering"
      ]
    },
    {
      "cell_type": "code",
      "execution_count": null,
      "metadata": {
        "colab": {
          "base_uri": "https://localhost:8080/"
        },
        "id": "hTPmoTSj6bof",
        "outputId": "34f7dd57-59ad-42b5-f026-838d3f27620a"
      },
      "outputs": [],
      "source": [
        "!pip install transformers"
      ]
    },
    {
      "cell_type": "code",
      "execution_count": null,
      "metadata": {
        "colab": {
          "base_uri": "https://localhost:8080/"
        },
        "id": "HGMpMAUF6kZn",
        "outputId": "052d2dfe-bde0-4e53-daf3-e090ffdf4881"
      },
      "outputs": [],
      "source": [
        "!pip install datasets"
      ]
    },
    {
      "cell_type": "code",
      "execution_count": null,
      "metadata": {
        "colab": {
          "base_uri": "https://localhost:8080/"
        },
        "id": "qniy5jRd5ppk",
        "outputId": "a674c2e9-719a-4f3d-e23c-f13c0c46574d"
      },
      "outputs": [],
      "source": [
        "python run_qa.py \\\n",
        "  --model_name_or_path bert-base-uncased \\\n",
        "  --dataset_name squad_v2 \\\n",
        "  --do_train \\\n",
        "  --do_eval \\\n",
        "  --per_device_train_batch_size 12 \\\n",
        "  --learning_rate 3e-5 \\\n",
        "  --num_train_epochs 2 \\\n",
        "  --max_seq_length 384 \\\n",
        "  --doc_stride 128 \\\n",
        "  --output_dir /tmp/debug_squad/"
      ]
    },
    {
      "cell_type": "code",
      "execution_count": null,
      "metadata": {
        "id": "gVxSJuS46V6C"
      },
      "outputs": [],
      "source": []
    }
  ],
  "metadata": {
    "accelerator": "GPU",
    "colab": {
      "name": "Tester.ipynb",
      "provenance": []
    },
    "kernelspec": {
      "display_name": "Python 3",
      "name": "python3"
    },
    "language_info": {
      "name": "python"
    }
  },
  "nbformat": 4,
  "nbformat_minor": 0
}
