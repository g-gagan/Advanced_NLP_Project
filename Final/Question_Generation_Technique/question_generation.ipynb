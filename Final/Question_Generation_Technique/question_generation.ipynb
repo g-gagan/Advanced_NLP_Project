{
  "cells": [
    {
      "cell_type": "markdown",
      "metadata": {
        "id": "S-Kj1T_yHa_A"
      },
      "source": [
        "# Installations"
      ]
    },
    {
      "cell_type": "code",
      "execution_count": null,
      "metadata": {
        "colab": {
          "base_uri": "https://localhost:8080/"
        },
        "id": "OB5vQ9t4ORU-",
        "outputId": "22eb4c37-a325-4262-969b-5c28aca8f29c"
      },
      "outputs": [],
      "source": [
        "!pip install  datasets transformers"
      ]
    },
    {
      "cell_type": "code",
      "execution_count": null,
      "metadata": {
        "_cell_guid": "79c7e3d0-c299-4dcb-8224-4455121ee9b0",
        "_uuid": "d629ff2d2480ee46fbb7e2d37f6b5fab8052498a",
        "colab": {
          "base_uri": "https://localhost:8080/"
        },
        "id": "YAP21lOv98K4",
        "outputId": "d204c3dd-def6-411a-ad58-fe3e1308da6f",
        "trusted": true
      },
      "outputs": [],
      "source": [
        "!pip install --upgrade git+https://github.com/ramsrigouthamg/Questgen.ai"
      ]
    },
    {
      "cell_type": "code",
      "execution_count": null,
      "metadata": {
        "id": "zV6T1TyS98LC",
        "trusted": true
      },
      "outputs": [],
      "source": [
        "!pip install --quiet git+https://github.com/boudinfl/pke.git@69337af9f9e72a25af6d7991eaa9869f1322dd72\n"
      ]
    },
    {
      "cell_type": "code",
      "execution_count": null,
      "metadata": {
        "colab": {
          "base_uri": "https://localhost:8080/"
        },
        "id": "VgR7ovac98LH",
        "outputId": "b782f18a-9682-4006-d4bb-c0c6cb4a720e",
        "trusted": true
      },
      "outputs": [],
      "source": [
        "!python -m nltk.downloader universal_tagset\n",
        "!python -m spacy download en"
      ]
    },
    {
      "cell_type": "markdown",
      "metadata": {
        "id": "Xej73WKiH2rB"
      },
      "source": [
        "# Download Sense2vec wordvectors for generation of multiple choices"
      ]
    },
    {
      "cell_type": "code",
      "execution_count": null,
      "metadata": {
        "colab": {
          "base_uri": "https://localhost:8080/"
        },
        "id": "j6t3Q_NlIFmh",
        "outputId": "936f8374-c4fb-45ff-bb13-3ac625ac0b0c"
      },
      "outputs": [],
      "source": [
        "!wget https://github.com/explosion/sense2vec/releases/download/v1.0.0/s2v_reddit_2015_md.tar.gz"
      ]
    },
    {
      "cell_type": "code",
      "execution_count": null,
      "metadata": {
        "colab": {
          "base_uri": "https://localhost:8080/"
        },
        "id": "8tqQbWi0IGuf",
        "outputId": "af4cca46-82ea-4262-a6fa-52f98b7750be"
      },
      "outputs": [],
      "source": [
        "!tar -xvf  s2v_reddit_2015_md.tar.gz"
      ]
    },
    {
      "cell_type": "code",
      "execution_count": null,
      "metadata": {
        "colab": {
          "base_uri": "https://localhost:8080/"
        },
        "id": "n9k2fs9RIKPC",
        "outputId": "a53d1387-950b-44fb-82db-fcda3dc5bf9a"
      },
      "outputs": [],
      "source": [
        "!ls s2v_old"
      ]
    },
    {
      "cell_type": "code",
      "execution_count": null,
      "metadata": {
        "colab": {
          "base_uri": "https://localhost:8080/"
        },
        "id": "GRhrJfty2Sl-",
        "outputId": "29d663d5-ea1a-4ebc-cb18-d1242cc27ec9"
      },
      "outputs": [],
      "source": [
        "import nltk\n",
        "nltk.download('stopwords')"
      ]
    },
    {
      "cell_type": "code",
      "execution_count": null,
      "metadata": {
        "id": "Ke4xxbmTOqtl"
      },
      "outputs": [],
      "source": [
        "import datasets"
      ]
    },
    {
      "cell_type": "markdown",
      "metadata": {
        "id": "Nh5aHPQvILf9"
      },
      "source": [
        "# Generate Questions"
      ]
    },
    {
      "cell_type": "code",
      "execution_count": null,
      "metadata": {
        "colab": {
          "base_uri": "https://localhost:8080/"
        },
        "id": "ulyUikpT98LL",
        "outputId": "552cc610-f8d9-4b33-d9a3-3b088b648d0b",
        "trusted": true
      },
      "outputs": [],
      "source": [
        "from pprint import pprint\n",
        "from Questgen import main"
      ]
    },
    {
      "cell_type": "markdown",
      "metadata": {
        "id": "vEGEoPBQdqOG"
      },
      "source": [
        "## Example"
      ]
    },
    {
      "cell_type": "code",
      "execution_count": null,
      "metadata": {
        "id": "CztS005g98LS",
        "trusted": true
      },
      "outputs": [],
      "source": [
        "payload = {\n",
        "\"input_text\":\"A more elaborate form of urban AC is the rhythmic oldies format, which focuses primarily on \\\"old school\\\" R&B and soul hits from the 1960s to the 1990s, including Motown and disco hits. The format includes soul or disco artists such as ABBA, The Village People, The Jackson 5, Donna Summer, Tina Charles, Gloria Gaynor and the Bee Gees. Rhythmic oldies stations still exist today, but target African-Americans as opposed to a mass audience.\"\n",
        "}"
      ]
    },
    {
      "cell_type": "code",
      "execution_count": null,
      "metadata": {
        "id": "faxCbO2c98LV",
        "trusted": true
      },
      "outputs": [],
      "source": [
        "qg = main.QGen()"
      ]
    },
    {
      "cell_type": "code",
      "execution_count": null,
      "metadata": {
        "colab": {
          "base_uri": "https://localhost:8080/"
        },
        "id": "Og7zSPEC98La",
        "outputId": "dfe9c73b-d34d-4841-f95f-e308430176f4",
        "trusted": true
      },
      "outputs": [],
      "source": [
        "output = qg.predict_shortq(payload)"
      ]
    },
    {
      "cell_type": "code",
      "execution_count": null,
      "metadata": {
        "id": "uAELqUGXoCel"
      },
      "outputs": [],
      "source": [
        "from pprint import pprint"
      ]
    },
    {
      "cell_type": "code",
      "execution_count": null,
      "metadata": {
        "colab": {
          "base_uri": "https://localhost:8080/",
          "height": 66,
          "referenced_widgets": [
            "9de26ee3b6f54cc69299646345f73d5f",
            "22ddb6a833cf41aead1849d6a133b00b",
            "7f27b20de53646ca91af25a0b01f253d",
            "ceae5750b79f4da8a7264a9f81744187",
            "b2215296ef0c4ccc8fb959f484f72925",
            "6e1dbd4130c9441eb437a24fe41856be",
            "f53bfbc1209a4964af9b3a858d9e5ac5",
            "02fbcaa23e064bb1a432682d43d420a8",
            "20b5e3c25fed44fd8bb48547adac3bdc",
            "95fd8c032a4e4e97a5ac14b9530cd22e",
            "839369557a8948a29c0f53a44cfea160"
          ]
        },
        "id": "PMZwzW8kOtlu",
        "outputId": "6b8aed86-493d-4144-f062-d046d26c87a8"
      },
      "outputs": [],
      "source": [
        "dataset_squad = datasets.load_dataset(\"squad_v2\")"
      ]
    },
    {
      "cell_type": "code",
      "execution_count": null,
      "metadata": {
        "id": "xADiG5jbRfZD"
      },
      "outputs": [],
      "source": [
        "qa_dict = {'what':[] , 'where': [], 'how':[], 'why':[], 'when':[], 'which':[],  'misc':[], 'who' : []}\n",
        "qa_keys = ['what', 'where', 'how', 'why', 'when', 'which', 'who']\n",
        "count = 0"
      ]
    },
    {
      "cell_type": "markdown",
      "metadata": {
        "id": "1aeFiTEnczO5"
      },
      "source": [
        "## Generate Questions"
      ]
    },
    {
      "cell_type": "code",
      "execution_count": null,
      "metadata": {
        "colab": {
          "base_uri": "https://localhost:8080/"
        },
        "id": "5wt8NO-JSI3N",
        "outputId": "1144e79d-490c-46a8-f92e-a935410ae338"
      },
      "outputs": [],
      "source": [
        "contexts = set()\n",
        "count = 0\n",
        "qa_dict = {'what':[] , 'where': [], 'how':[], 'why':[], 'when':[], 'which':[],  'misc':[], 'who' : []}\n",
        "count = 0\n",
        "for data in dataset_squad['train']:\n",
        "  count += 1\n",
        "  if count > 100:\n",
        "    break\n",
        "  if data['context'] not in contexts:\n",
        "    contexts.add(data['context'])\n",
        "    payload['input_text'] = data['context']\n",
        "    output = qg.predict_mcq(payload)\n",
        "    dataset_entry  = {'answers':{'answer_start':[],'text':[]},'context':data['context'],'id':None,'question':None,'title':data['title']}\n",
        "    if 'questions' not in output:\n",
        "      continue\n",
        "    for question in output['questions']:\n",
        "      dataset_entry['id'] = str(count)\n",
        "      count +=1\n",
        "      dataset_entry['question'] = question['question_statement']\n",
        "      dataset_entry['answers']['text'] = [question['answer']]\n",
        "      dataset_entry['answers']['answer_start'] = [data['context'].lower().find(question['answer'])]\n",
        "      if dataset_entry['answers']['answer_start'][0] == -1:\n",
        "        continue\n",
        "      for key in qa_keys:\n",
        "        misc = True\n",
        "        if key in dataset_entry['question'].lower():\n",
        "          qa_dict[key].append(dataset_entry)\n",
        "          misc = False \n",
        "          break\n",
        "        if misc == True:\n",
        "          qa_dict['misc'].append(dataset_entry)"
      ]
    },
    {
      "cell_type": "code",
      "execution_count": null,
      "metadata": {
        "id": "Jhs-4zT3WVX5"
      },
      "outputs": [],
      "source": [
        "import pandas as pd"
      ]
    },
    {
      "cell_type": "code",
      "execution_count": null,
      "metadata": {
        "id": "v3MYMeB-WM1M"
      },
      "outputs": [],
      "source": [
        "squad_train_df = pd.DataFrame(dataset_squad['train'])"
      ]
    },
    {
      "cell_type": "code",
      "execution_count": null,
      "metadata": {
        "colab": {
          "base_uri": "https://localhost:8080/"
        },
        "id": "FRVat0GxT_XX",
        "outputId": "03623318-cc43-4123-c3d1-912458480bc6"
      },
      "outputs": [],
      "source": [
        "rows = []\n",
        "\n",
        "for i in qa_dict:\n",
        "  for j in qa_dict[i]:\n",
        "    rows.append(j)"
      ]
    },
    {
      "cell_type": "code",
      "execution_count": null,
      "metadata": {
        "id": "wo-8uHucT_VC"
      },
      "outputs": [],
      "source": [
        "temp = pd.DataFrame(rows)"
      ]
    },
    {
      "cell_type": "code",
      "execution_count": null,
      "metadata": {
        "id": "rKhpEtQgbFll"
      },
      "outputs": [],
      "source": [
        "squad_train_df = squad_train_df.append(temp)"
      ]
    },
    {
      "cell_type": "code",
      "execution_count": null,
      "metadata": {
        "id": "Sge9uuBmbqj3"
      },
      "outputs": [],
      "source": [
        "import numpy as np"
      ]
    },
    {
      "cell_type": "code",
      "execution_count": null,
      "metadata": {
        "id": "1F3UD6-Ebd8R"
      },
      "outputs": [],
      "source": [
        "squad_train_df = squad_train_df.drop('id', axis = 1)\n",
        "squad_train_df['id'] = np.arange(len(squad_train_df))"
      ]
    },
    {
      "cell_type": "code",
      "execution_count": null,
      "metadata": {
        "colab": {
          "base_uri": "https://localhost:8080/",
          "height": 424
        },
        "id": "8B4vQ5EXb2nm",
        "outputId": "db1950f6-37d2-43d3-cbb7-180644ead631"
      },
      "outputs": [],
      "source": [
        "squad_train_df"
      ]
    },
    {
      "cell_type": "code",
      "execution_count": null,
      "metadata": {
        "id": "5QPzRx4-b7np"
      },
      "outputs": [],
      "source": [
        "dataset_squad['train'] = datasets.Dataset.from_pandas(squad_train_df)"
      ]
    },
    {
      "cell_type": "code",
      "execution_count": null,
      "metadata": {
        "colab": {
          "base_uri": "https://localhost:8080/"
        },
        "id": "vQp35AQccIc5",
        "outputId": "bc6f3c8b-4629-43f9-cd13-7313ffba3afc"
      },
      "outputs": [],
      "source": [
        "dataset_squad"
      ]
    },
    {
      "cell_type": "markdown",
      "metadata": {
        "id": "Fxx9bZtadtzG"
      },
      "source": [
        "## Save to file"
      ]
    },
    {
      "cell_type": "code",
      "execution_count": null,
      "metadata": {
        "id": "Ky9ZV2EyhEKI"
      },
      "outputs": [],
      "source": [
        "import pickle as pkl\n",
        "with open('/content/drive/MyDrive/Spring22/CS769/Project/FInal/SQUAD_gen.pkl' , 'wb') as fp:\n",
        "  pkl.dump(dataset_squad, fp)"
      ]
    }
  ],
  "metadata": {
    "colab": {
      "collapsed_sections": [
        "S-Kj1T_yHa_A",
        "Xej73WKiH2rB",
        "Nh5aHPQvILf9",
        "tiKBEqeHy2-c",
        "3Nxi86jH49N7"
      ],
      "name": "question_generation.ipynb",
      "provenance": []
    },
    "kernelspec": {
      "display_name": "Python 3",
      "language": "python",
      "name": "python3"
    },
    "language_info": {
      "codemirror_mode": {
        "name": "ipython",
        "version": 3
      },
      "file_extension": ".py",
      "mimetype": "text/x-python",
      "name": "python",
      "nbconvert_exporter": "python",
      "pygments_lexer": "ipython3",
      "version": "3.7.6"
    },
    "widgets": {
      "application/vnd.jupyter.widget-state+json": {
        "02fbcaa23e064bb1a432682d43d420a8": {
          "model_module": "@jupyter-widgets/base",
          "model_module_version": "1.2.0",
          "model_name": "LayoutModel",
          "state": {
            "_model_module": "@jupyter-widgets/base",
            "_model_module_version": "1.2.0",
            "_model_name": "LayoutModel",
            "_view_count": null,
            "_view_module": "@jupyter-widgets/base",
            "_view_module_version": "1.2.0",
            "_view_name": "LayoutView",
            "align_content": null,
            "align_items": null,
            "align_self": null,
            "border": null,
            "bottom": null,
            "display": null,
            "flex": null,
            "flex_flow": null,
            "grid_area": null,
            "grid_auto_columns": null,
            "grid_auto_flow": null,
            "grid_auto_rows": null,
            "grid_column": null,
            "grid_gap": null,
            "grid_row": null,
            "grid_template_areas": null,
            "grid_template_columns": null,
            "grid_template_rows": null,
            "height": null,
            "justify_content": null,
            "justify_items": null,
            "left": null,
            "margin": null,
            "max_height": null,
            "max_width": null,
            "min_height": null,
            "min_width": null,
            "object_fit": null,
            "object_position": null,
            "order": null,
            "overflow": null,
            "overflow_x": null,
            "overflow_y": null,
            "padding": null,
            "right": null,
            "top": null,
            "visibility": null,
            "width": null
          }
        },
        "20b5e3c25fed44fd8bb48547adac3bdc": {
          "model_module": "@jupyter-widgets/controls",
          "model_module_version": "1.5.0",
          "model_name": "ProgressStyleModel",
          "state": {
            "_model_module": "@jupyter-widgets/controls",
            "_model_module_version": "1.5.0",
            "_model_name": "ProgressStyleModel",
            "_view_count": null,
            "_view_module": "@jupyter-widgets/base",
            "_view_module_version": "1.2.0",
            "_view_name": "StyleView",
            "bar_color": null,
            "description_width": ""
          }
        },
        "22ddb6a833cf41aead1849d6a133b00b": {
          "model_module": "@jupyter-widgets/controls",
          "model_module_version": "1.5.0",
          "model_name": "HTMLModel",
          "state": {
            "_dom_classes": [],
            "_model_module": "@jupyter-widgets/controls",
            "_model_module_version": "1.5.0",
            "_model_name": "HTMLModel",
            "_view_count": null,
            "_view_module": "@jupyter-widgets/controls",
            "_view_module_version": "1.5.0",
            "_view_name": "HTMLView",
            "description": "",
            "description_tooltip": null,
            "layout": "IPY_MODEL_6e1dbd4130c9441eb437a24fe41856be",
            "placeholder": "​",
            "style": "IPY_MODEL_f53bfbc1209a4964af9b3a858d9e5ac5",
            "value": "100%"
          }
        },
        "6e1dbd4130c9441eb437a24fe41856be": {
          "model_module": "@jupyter-widgets/base",
          "model_module_version": "1.2.0",
          "model_name": "LayoutModel",
          "state": {
            "_model_module": "@jupyter-widgets/base",
            "_model_module_version": "1.2.0",
            "_model_name": "LayoutModel",
            "_view_count": null,
            "_view_module": "@jupyter-widgets/base",
            "_view_module_version": "1.2.0",
            "_view_name": "LayoutView",
            "align_content": null,
            "align_items": null,
            "align_self": null,
            "border": null,
            "bottom": null,
            "display": null,
            "flex": null,
            "flex_flow": null,
            "grid_area": null,
            "grid_auto_columns": null,
            "grid_auto_flow": null,
            "grid_auto_rows": null,
            "grid_column": null,
            "grid_gap": null,
            "grid_row": null,
            "grid_template_areas": null,
            "grid_template_columns": null,
            "grid_template_rows": null,
            "height": null,
            "justify_content": null,
            "justify_items": null,
            "left": null,
            "margin": null,
            "max_height": null,
            "max_width": null,
            "min_height": null,
            "min_width": null,
            "object_fit": null,
            "object_position": null,
            "order": null,
            "overflow": null,
            "overflow_x": null,
            "overflow_y": null,
            "padding": null,
            "right": null,
            "top": null,
            "visibility": null,
            "width": null
          }
        },
        "7f27b20de53646ca91af25a0b01f253d": {
          "model_module": "@jupyter-widgets/controls",
          "model_module_version": "1.5.0",
          "model_name": "FloatProgressModel",
          "state": {
            "_dom_classes": [],
            "_model_module": "@jupyter-widgets/controls",
            "_model_module_version": "1.5.0",
            "_model_name": "FloatProgressModel",
            "_view_count": null,
            "_view_module": "@jupyter-widgets/controls",
            "_view_module_version": "1.5.0",
            "_view_name": "ProgressView",
            "bar_style": "success",
            "description": "",
            "description_tooltip": null,
            "layout": "IPY_MODEL_02fbcaa23e064bb1a432682d43d420a8",
            "max": 2,
            "min": 0,
            "orientation": "horizontal",
            "style": "IPY_MODEL_20b5e3c25fed44fd8bb48547adac3bdc",
            "value": 2
          }
        },
        "839369557a8948a29c0f53a44cfea160": {
          "model_module": "@jupyter-widgets/controls",
          "model_module_version": "1.5.0",
          "model_name": "DescriptionStyleModel",
          "state": {
            "_model_module": "@jupyter-widgets/controls",
            "_model_module_version": "1.5.0",
            "_model_name": "DescriptionStyleModel",
            "_view_count": null,
            "_view_module": "@jupyter-widgets/base",
            "_view_module_version": "1.2.0",
            "_view_name": "StyleView",
            "description_width": ""
          }
        },
        "95fd8c032a4e4e97a5ac14b9530cd22e": {
          "model_module": "@jupyter-widgets/base",
          "model_module_version": "1.2.0",
          "model_name": "LayoutModel",
          "state": {
            "_model_module": "@jupyter-widgets/base",
            "_model_module_version": "1.2.0",
            "_model_name": "LayoutModel",
            "_view_count": null,
            "_view_module": "@jupyter-widgets/base",
            "_view_module_version": "1.2.0",
            "_view_name": "LayoutView",
            "align_content": null,
            "align_items": null,
            "align_self": null,
            "border": null,
            "bottom": null,
            "display": null,
            "flex": null,
            "flex_flow": null,
            "grid_area": null,
            "grid_auto_columns": null,
            "grid_auto_flow": null,
            "grid_auto_rows": null,
            "grid_column": null,
            "grid_gap": null,
            "grid_row": null,
            "grid_template_areas": null,
            "grid_template_columns": null,
            "grid_template_rows": null,
            "height": null,
            "justify_content": null,
            "justify_items": null,
            "left": null,
            "margin": null,
            "max_height": null,
            "max_width": null,
            "min_height": null,
            "min_width": null,
            "object_fit": null,
            "object_position": null,
            "order": null,
            "overflow": null,
            "overflow_x": null,
            "overflow_y": null,
            "padding": null,
            "right": null,
            "top": null,
            "visibility": null,
            "width": null
          }
        },
        "9de26ee3b6f54cc69299646345f73d5f": {
          "model_module": "@jupyter-widgets/controls",
          "model_module_version": "1.5.0",
          "model_name": "HBoxModel",
          "state": {
            "_dom_classes": [],
            "_model_module": "@jupyter-widgets/controls",
            "_model_module_version": "1.5.0",
            "_model_name": "HBoxModel",
            "_view_count": null,
            "_view_module": "@jupyter-widgets/controls",
            "_view_module_version": "1.5.0",
            "_view_name": "HBoxView",
            "box_style": "",
            "children": [
              "IPY_MODEL_22ddb6a833cf41aead1849d6a133b00b",
              "IPY_MODEL_7f27b20de53646ca91af25a0b01f253d",
              "IPY_MODEL_ceae5750b79f4da8a7264a9f81744187"
            ],
            "layout": "IPY_MODEL_b2215296ef0c4ccc8fb959f484f72925"
          }
        },
        "b2215296ef0c4ccc8fb959f484f72925": {
          "model_module": "@jupyter-widgets/base",
          "model_module_version": "1.2.0",
          "model_name": "LayoutModel",
          "state": {
            "_model_module": "@jupyter-widgets/base",
            "_model_module_version": "1.2.0",
            "_model_name": "LayoutModel",
            "_view_count": null,
            "_view_module": "@jupyter-widgets/base",
            "_view_module_version": "1.2.0",
            "_view_name": "LayoutView",
            "align_content": null,
            "align_items": null,
            "align_self": null,
            "border": null,
            "bottom": null,
            "display": null,
            "flex": null,
            "flex_flow": null,
            "grid_area": null,
            "grid_auto_columns": null,
            "grid_auto_flow": null,
            "grid_auto_rows": null,
            "grid_column": null,
            "grid_gap": null,
            "grid_row": null,
            "grid_template_areas": null,
            "grid_template_columns": null,
            "grid_template_rows": null,
            "height": null,
            "justify_content": null,
            "justify_items": null,
            "left": null,
            "margin": null,
            "max_height": null,
            "max_width": null,
            "min_height": null,
            "min_width": null,
            "object_fit": null,
            "object_position": null,
            "order": null,
            "overflow": null,
            "overflow_x": null,
            "overflow_y": null,
            "padding": null,
            "right": null,
            "top": null,
            "visibility": null,
            "width": null
          }
        },
        "ceae5750b79f4da8a7264a9f81744187": {
          "model_module": "@jupyter-widgets/controls",
          "model_module_version": "1.5.0",
          "model_name": "HTMLModel",
          "state": {
            "_dom_classes": [],
            "_model_module": "@jupyter-widgets/controls",
            "_model_module_version": "1.5.0",
            "_model_name": "HTMLModel",
            "_view_count": null,
            "_view_module": "@jupyter-widgets/controls",
            "_view_module_version": "1.5.0",
            "_view_name": "HTMLView",
            "description": "",
            "description_tooltip": null,
            "layout": "IPY_MODEL_95fd8c032a4e4e97a5ac14b9530cd22e",
            "placeholder": "​",
            "style": "IPY_MODEL_839369557a8948a29c0f53a44cfea160",
            "value": " 2/2 [00:00&lt;00:00, 24.11it/s]"
          }
        },
        "f53bfbc1209a4964af9b3a858d9e5ac5": {
          "model_module": "@jupyter-widgets/controls",
          "model_module_version": "1.5.0",
          "model_name": "DescriptionStyleModel",
          "state": {
            "_model_module": "@jupyter-widgets/controls",
            "_model_module_version": "1.5.0",
            "_model_name": "DescriptionStyleModel",
            "_view_count": null,
            "_view_module": "@jupyter-widgets/base",
            "_view_module_version": "1.2.0",
            "_view_name": "StyleView",
            "description_width": ""
          }
        }
      }
    }
  },
  "nbformat": 4,
  "nbformat_minor": 0
}
